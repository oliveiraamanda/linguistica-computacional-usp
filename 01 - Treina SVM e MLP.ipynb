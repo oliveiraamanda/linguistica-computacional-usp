{
 "cells": [
  {
   "cell_type": "code",
   "execution_count": 103,
   "id": "677b82a4-0752-4b69-ae94-898c2533cf25",
   "metadata": {},
   "outputs": [
    {
     "name": "stderr",
     "output_type": "stream",
     "text": [
      "[nltk_data] Downloading package stopwords to /home/amanda/nltk_data...\n",
      "[nltk_data]   Package stopwords is already up-to-date!\n"
     ]
    }
   ],
   "source": [
    "import pandas as pd\n",
    "import string\n",
    "import nltk\n",
    "nltk.download('stopwords')\n",
    "from nltk.corpus import stopwords\n",
    "from sklearn.svm import SVC\n",
    "from sklearn.feature_extraction.text import TfidfVectorizer\n",
    "from sklearn.neural_network import MLPClassifier\n",
    "from sklearn.model_selection import train_test_split\n",
    "from sklearn.metrics import classification_report\n",
    "from tqdm import tqdm\n",
    "from tqdm.contrib.concurrent import thread_map\n",
    "from sklearn.metrics import accuracy_score\n",
    "from sklearn.metrics import precision_score\n",
    "from sklearn.metrics import f1_score\n",
    "from sklearn.metrics import balanced_accuracy_score\n",
    "import matplotlib.pyplot as plt\n",
    "from sklearn.metrics import confusion_matrix\n",
    "from sklearn.metrics import precision_recall_curve\n",
    "from sklearn.metrics import auc\n",
    "\n",
    "\n",
    "\n",
    "pd.set_option('display.max_colwidth', 1)"
   ]
  },
  {
   "cell_type": "markdown",
   "id": "3c73aae4-ac24-470d-b730-84427beeaea8",
   "metadata": {},
   "source": [
    "#### Separando e Vetorizando os dados"
   ]
  },
  {
   "cell_type": "code",
   "execution_count": 5,
   "id": "c2d86f50-547e-455f-b2d7-c5facf8b18eb",
   "metadata": {},
   "outputs": [],
   "source": [
    "train = pd.read_csv('train_irony.csv')\n",
    "test = pd.read_csv('test_irony.csv')"
   ]
  },
  {
   "cell_type": "code",
   "execution_count": 11,
   "id": "31a06c97-2d84-4581-a4ec-2ac7e05c47fd",
   "metadata": {},
   "outputs": [],
   "source": [
    "def preprocess_data(data):\n",
    "    data = data.translate(str.maketrans('', '', string.punctuation))\n",
    "    data = data.lower()\n",
    "    words = data.split()\n",
    "    stop_words = set(stopwords.words('portuguese'))\n",
    "    words = [word for word in words if word not in stop_words]\n",
    "    data = ' '.join(words)\n",
    "  \n",
    "    return data"
   ]
  },
  {
   "cell_type": "code",
   "execution_count": 12,
   "id": "639eae2e-de10-4928-8554-1211e6206205",
   "metadata": {},
   "outputs": [
    {
     "data": {
      "application/vnd.jupyter.widget-view+json": {
       "model_id": "9761288f448d465e833d626e551d9df9",
       "version_major": 2,
       "version_minor": 0
      },
      "text/plain": [
       "  0%|          | 0/15619 [00:00<?, ?it/s]"
      ]
     },
     "metadata": {},
     "output_type": "display_data"
    }
   ],
   "source": [
    "train['text_preprocess'] = thread_map(preprocess_data, train['text'])"
   ]
  },
  {
   "cell_type": "code",
   "execution_count": 13,
   "id": "d2c76c6e-56df-482f-9cd4-19ac90cb55a6",
   "metadata": {},
   "outputs": [
    {
     "data": {
      "text/html": [
       "<div>\n",
       "<style scoped>\n",
       "    .dataframe tbody tr th:only-of-type {\n",
       "        vertical-align: middle;\n",
       "    }\n",
       "\n",
       "    .dataframe tbody tr th {\n",
       "        vertical-align: top;\n",
       "    }\n",
       "\n",
       "    .dataframe thead th {\n",
       "        text-align: right;\n",
       "    }\n",
       "</style>\n",
       "<table border=\"1\" class=\"dataframe\">\n",
       "  <thead>\n",
       "    <tr style=\"text-align: right;\">\n",
       "      <th></th>\n",
       "      <th>text</th>\n",
       "      <th>prediction</th>\n",
       "      <th>text_preprocess</th>\n",
       "    </tr>\n",
       "  </thead>\n",
       "  <tbody>\n",
       "    <tr>\n",
       "      <th>0</th>\n",
       "      <td>GRANJA COMARY – Com a notícia de que Eduardo Cunha renunciou à presidência da Câmara – cargo do qual já estava afastado – Dunga convocou uma coletiva de imprensa para dizer que renuncia ao comando da seleção brasileira. Embora tenha sido demitido do posto um mês atrás, o treinador gaúcho fez uma manobra política de forma a parecer que deixa a vaga por vontade própria. “É público e notório que a seleção está acéfala, vítima de uma interinidade bizarra”, declarou Dunga, sendo aplaudido pela bancada sub-19 do PMDB. “Somente a minha renúncia poderá por fim a essa interinidade sem prazo. A seleção não suportará esperar indefinidamente.” Ele não foi o único a aderir ao programa-de-demissão-voluntária-de-quem-já estava-tecnicamente-demitido. Em Brasília, o ex-ministro Romero Jucá convocou uma coletiva de imprensa para renunciar ao comando da pasta do Planejamento. No Rio de Janeiro, Eike Batista renunciou ao posto de pessoa mais rica do Brasil. Já em Minas Gerais, o goleiro Bruno anunciou que está deixando a camisa número 1 do Flamengo. Na contracorrente, Pedro Paulo disse ontem que não renunciará ao argumento de que todo mundo às vezes exagera numa discussão.</td>\n",
       "      <td>1</td>\n",
       "      <td>granja comary – notícia eduardo cunha renunciou presidência câmara – cargo afastado – dunga convocou coletiva imprensa dizer renuncia comando seleção brasileira embora sido demitido posto mês atrás treinador gaúcho fez manobra política forma parecer deixa vaga vontade própria “é público notório seleção acéfala vítima interinidade bizarra” declarou dunga sendo aplaudido bancada sub19 pmdb “somente renúncia poderá fim interinidade prazo seleção suportará esperar indefinidamente” único aderir programadedemissãovoluntáriadequemjá estavatecnicamentedemitido brasília exministro romero jucá convocou coletiva imprensa renunciar comando pasta planejamento rio janeiro eike batista renunciou posto pessoa rica brasil minas gerais goleiro bruno anunciou deixando camisa número 1 flamengo contracorrente pedro paulo disse ontem renunciará argumento todo mundo vezes exagera discussão</td>\n",
       "    </tr>\n",
       "    <tr>\n",
       "      <th>1</th>\n",
       "      <td>Foi sancionada com vetos a Lei Complementar 173, publicada dia 28 de maio de 2020 no Diário Oficial da União, que estabelece o Programa Federativo de Enfrentamento ao Coronavírus para Estados, Distrito Federal e Municípios. O plano prevê a negociação de empréstimos, a suspensão dos pagamentos de dívidas contratadas com a União (estimadas em R$ 65 bilhões) e a entrega de R$ 60 bilhões para os governos locais aplicarem em ações de enfrentamento à pandemia.</td>\n",
       "      <td>0</td>\n",
       "      <td>sancionada vetos lei complementar 173 publicada dia 28 maio 2020 diário oficial união estabelece programa federativo enfrentamento coronavírus estados distrito federal municípios plano prevê negociação empréstimos suspensão pagamentos dívidas contratadas união estimadas r 65 bilhões entrega r 60 bilhões governos locais aplicarem ações enfrentamento pandemia</td>\n",
       "    </tr>\n",
       "  </tbody>\n",
       "</table>\n",
       "</div>"
      ],
      "text/plain": [
       "                                                                                                                                                                                                                                                                                                                                                                                                                                                                                                                                                                                                                                                                                                                                                                                                                                                                                                                                                                                                                                                                                                                                                                                                                   text  \\\n",
       "0  GRANJA COMARY – Com a notícia de que Eduardo Cunha renunciou à presidência da Câmara – cargo do qual já estava afastado – Dunga convocou uma coletiva de imprensa para dizer que renuncia ao comando da seleção brasileira. Embora tenha sido demitido do posto um mês atrás, o treinador gaúcho fez uma manobra política de forma a parecer que deixa a vaga por vontade própria. “É público e notório que a seleção está acéfala, vítima de uma interinidade bizarra”, declarou Dunga, sendo aplaudido pela bancada sub-19 do PMDB. “Somente a minha renúncia poderá por fim a essa interinidade sem prazo. A seleção não suportará esperar indefinidamente.” Ele não foi o único a aderir ao programa-de-demissão-voluntária-de-quem-já estava-tecnicamente-demitido. Em Brasília, o ex-ministro Romero Jucá convocou uma coletiva de imprensa para renunciar ao comando da pasta do Planejamento. No Rio de Janeiro, Eike Batista renunciou ao posto de pessoa mais rica do Brasil. Já em Minas Gerais, o goleiro Bruno anunciou que está deixando a camisa número 1 do Flamengo. Na contracorrente, Pedro Paulo disse ontem que não renunciará ao argumento de que todo mundo às vezes exagera numa discussão.    \n",
       "1  Foi sancionada com vetos a Lei Complementar 173, publicada dia 28 de maio de 2020 no Diário Oficial da União, que estabelece o Programa Federativo de Enfrentamento ao Coronavírus para Estados, Distrito Federal e Municípios. O plano prevê a negociação de empréstimos, a suspensão dos pagamentos de dívidas contratadas com a União (estimadas em R$ 65 bilhões) e a entrega de R$ 60 bilhões para os governos locais aplicarem em ações de enfrentamento à pandemia.                                                                                                                                                                                                                                                                                                                                                                                                                                                                                                                                                                                                                                                                                                                                             \n",
       "\n",
       "   prediction  \\\n",
       "0  1            \n",
       "1  0            \n",
       "\n",
       "                                                                                                                                                                                                                                                                                                                                                                                                                                                                                                                                                                                                                                                                                                                                                                                                                                                                                                   text_preprocess  \n",
       "0  granja comary – notícia eduardo cunha renunciou presidência câmara – cargo afastado – dunga convocou coletiva imprensa dizer renuncia comando seleção brasileira embora sido demitido posto mês atrás treinador gaúcho fez manobra política forma parecer deixa vaga vontade própria “é público notório seleção acéfala vítima interinidade bizarra” declarou dunga sendo aplaudido bancada sub19 pmdb “somente renúncia poderá fim interinidade prazo seleção suportará esperar indefinidamente” único aderir programadedemissãovoluntáriadequemjá estavatecnicamentedemitido brasília exministro romero jucá convocou coletiva imprensa renunciar comando pasta planejamento rio janeiro eike batista renunciou posto pessoa rica brasil minas gerais goleiro bruno anunciou deixando camisa número 1 flamengo contracorrente pedro paulo disse ontem renunciará argumento todo mundo vezes exagera discussão  \n",
       "1  sancionada vetos lei complementar 173 publicada dia 28 maio 2020 diário oficial união estabelece programa federativo enfrentamento coronavírus estados distrito federal municípios plano prevê negociação empréstimos suspensão pagamentos dívidas contratadas união estimadas r 65 bilhões entrega r 60 bilhões governos locais aplicarem ações enfrentamento pandemia                                                                                                                                                                                                                                                                                                                                                                                                                                                                                                                                          "
      ]
     },
     "execution_count": 13,
     "metadata": {},
     "output_type": "execute_result"
    }
   ],
   "source": [
    "train.head(2)"
   ]
  },
  {
   "cell_type": "code",
   "execution_count": 14,
   "id": "4a6181d7-029f-4e3c-ad62-c9608336fa8c",
   "metadata": {},
   "outputs": [
    {
     "data": {
      "application/vnd.jupyter.widget-view+json": {
       "model_id": "f34ca42514d6462590fbf8be94a6f5ed",
       "version_major": 2,
       "version_minor": 0
      },
      "text/plain": [
       "  0%|          | 0/2756 [00:00<?, ?it/s]"
      ]
     },
     "metadata": {},
     "output_type": "display_data"
    }
   ],
   "source": [
    "test['text_preprocess'] = thread_map(preprocess_data, test['text'])"
   ]
  },
  {
   "cell_type": "code",
   "execution_count": 16,
   "id": "9c294971-ece8-427c-86a8-391c4f00716e",
   "metadata": {},
   "outputs": [
    {
     "data": {
      "text/html": [
       "<div>\n",
       "<style scoped>\n",
       "    .dataframe tbody tr th:only-of-type {\n",
       "        vertical-align: middle;\n",
       "    }\n",
       "\n",
       "    .dataframe tbody tr th {\n",
       "        vertical-align: top;\n",
       "    }\n",
       "\n",
       "    .dataframe thead th {\n",
       "        text-align: right;\n",
       "    }\n",
       "</style>\n",
       "<table border=\"1\" class=\"dataframe\">\n",
       "  <thead>\n",
       "    <tr style=\"text-align: right;\">\n",
       "      <th></th>\n",
       "      <th>text</th>\n",
       "      <th>prediction</th>\n",
       "      <th>text_preprocess</th>\n",
       "    </tr>\n",
       "  </thead>\n",
       "  <tbody>\n",
       "    <tr>\n",
       "      <th>0</th>\n",
       "      <td>Um projeto aprovado pelo Congresso Nacional pode anular dívidas tributárias de igrejas acumuladas após fiscalizações e multas aplicadas pela Receita Federal. Segundo apurou o Estadão/Broadcast, o valor do “perdão” seria de quase R$ 1 bilhão. O texto aguarda a sanção ou veto do presidente Jair Bolsonaro, que tem na bancada evangélica um importante pilar de sustentação política de seu governo. Ele tem até 11 de setembro para decidir se mantém ou não a benesse aos templos religiosos.</td>\n",
       "      <td>0</td>\n",
       "      <td>projeto aprovado congresso nacional pode anular dívidas tributárias igrejas acumuladas após fiscalizações multas aplicadas receita federal segundo apurou estadãobroadcast valor “perdão” quase r 1 bilhão texto aguarda sanção veto presidente jair bolsonaro bancada evangélica importante pilar sustentação política governo 11 setembro decidir mantém benesse templos religiosos</td>\n",
       "    </tr>\n",
       "    <tr>\n",
       "      <th>1</th>\n",
       "      <td>Periculum in mora – o perigo da demora – é uma expressão usada quando a lentidão da justiça pode gerar dano aos envolvidos num processo. Qualquer advogado recém-formado sabe disto. Eu a uso aqui porque a demora em se fazer cumprir a pena é o que move a PEC da 2a Instância. O cidadão comum não sabe latim e nem precisa ser Rui Barbosa para dizer que justiça atrasada não é justiça.</td>\n",
       "      <td>0</td>\n",
       "      <td>periculum in mora – perigo demora – expressão usada lentidão justiça pode gerar dano envolvidos processo qualquer advogado recémformado sabe disto uso aqui porque demora fazer cumprir pena move pec 2a instância cidadão comum sabe latim precisa rui barbosa dizer justiça atrasada justiça</td>\n",
       "    </tr>\n",
       "  </tbody>\n",
       "</table>\n",
       "</div>"
      ],
      "text/plain": [
       "                                                                                                                                                                                                                                                                                                                                                                                                                                                                                                    text  \\\n",
       "0  Um projeto aprovado pelo Congresso Nacional pode anular dívidas tributárias de igrejas acumuladas após fiscalizações e multas aplicadas pela Receita Federal. Segundo apurou o Estadão/Broadcast, o valor do “perdão” seria de quase R$ 1 bilhão. O texto aguarda a sanção ou veto do presidente Jair Bolsonaro, que tem na bancada evangélica um importante pilar de sustentação política de seu governo. Ele tem até 11 de setembro para decidir se mantém ou não a benesse aos templos religiosos.   \n",
       "1  Periculum in mora – o perigo da demora – é uma expressão usada quando a lentidão da justiça pode gerar dano aos envolvidos num processo. Qualquer advogado recém-formado sabe disto. Eu a uso aqui porque a demora em se fazer cumprir a pena é o que move a PEC da 2a Instância. O cidadão comum não sabe latim e nem precisa ser Rui Barbosa para dizer que justiça atrasada não é justiça.                                                                                                           \n",
       "\n",
       "   prediction  \\\n",
       "0  0            \n",
       "1  0            \n",
       "\n",
       "                                                                                                                                                                                                                                                                                                                                                                         text_preprocess  \n",
       "0  projeto aprovado congresso nacional pode anular dívidas tributárias igrejas acumuladas após fiscalizações multas aplicadas receita federal segundo apurou estadãobroadcast valor “perdão” quase r 1 bilhão texto aguarda sanção veto presidente jair bolsonaro bancada evangélica importante pilar sustentação política governo 11 setembro decidir mantém benesse templos religiosos  \n",
       "1  periculum in mora – perigo demora – expressão usada lentidão justiça pode gerar dano envolvidos processo qualquer advogado recémformado sabe disto uso aqui porque demora fazer cumprir pena move pec 2a instância cidadão comum sabe latim precisa rui barbosa dizer justiça atrasada justiça                                                                                         "
      ]
     },
     "execution_count": 16,
     "metadata": {},
     "output_type": "execute_result"
    }
   ],
   "source": [
    "test.head(2)"
   ]
  },
  {
   "cell_type": "code",
   "execution_count": 22,
   "id": "e0a74960-6402-4020-8180-0e2c61e19887",
   "metadata": {},
   "outputs": [
    {
     "data": {
      "text/plain": [
       "(15619, 3)"
      ]
     },
     "execution_count": 22,
     "metadata": {},
     "output_type": "execute_result"
    }
   ],
   "source": [
    "train.shape"
   ]
  },
  {
   "cell_type": "code",
   "execution_count": 23,
   "id": "9c8b0b0f-ce43-4cb4-9f32-9481e35368ac",
   "metadata": {},
   "outputs": [
    {
     "data": {
      "text/plain": [
       "(2756, 3)"
      ]
     },
     "execution_count": 23,
     "metadata": {},
     "output_type": "execute_result"
    }
   ],
   "source": [
    "test.shape"
   ]
  },
  {
   "cell_type": "code",
   "execution_count": 24,
   "id": "41df2c84-43c7-4fc3-916a-b27fe1a0d789",
   "metadata": {},
   "outputs": [
    {
     "data": {
      "text/plain": [
       "0    9456\n",
       "1    6163\n",
       "Name: prediction, dtype: int64"
      ]
     },
     "execution_count": 24,
     "metadata": {},
     "output_type": "execute_result"
    }
   ],
   "source": [
    "train.prediction.value_counts()"
   ]
  },
  {
   "cell_type": "code",
   "execution_count": 25,
   "id": "77d81970-e7ae-4ad8-a9c4-ca52ad850e1f",
   "metadata": {},
   "outputs": [
    {
     "data": {
      "text/plain": [
       "0    1720\n",
       "1    1036\n",
       "Name: prediction, dtype: int64"
      ]
     },
     "execution_count": 25,
     "metadata": {},
     "output_type": "execute_result"
    }
   ],
   "source": [
    "test.prediction.value_counts()"
   ]
  },
  {
   "cell_type": "code",
   "execution_count": 17,
   "id": "5c6a91d5-bcc8-4922-8e4f-29c8521720a3",
   "metadata": {},
   "outputs": [],
   "source": [
    "X_train = train['text_preprocess']\n",
    "X_test = test['text_preprocess']\n",
    "y_train = train['prediction']\n",
    "y_test = test['prediction']"
   ]
  },
  {
   "cell_type": "code",
   "execution_count": 18,
   "id": "2224bad8-e48a-4167-8812-33be64b32b5e",
   "metadata": {},
   "outputs": [],
   "source": [
    "# transformar os dados de texto em um vetor de recursos usando o TfidfVectorizer\n",
    "vectorizer = TfidfVectorizer()\n",
    "X_train = vectorizer.fit_transform(X_train)\n",
    "X_test = vectorizer.transform(X_test)"
   ]
  },
  {
   "cell_type": "markdown",
   "id": "beb6ee79-1770-4de3-a5cb-c54e2b46f550",
   "metadata": {},
   "source": [
    "### SVM"
   ]
  },
  {
   "cell_type": "code",
   "execution_count": 89,
   "id": "fb44b2dd-c0a5-486d-adce-0827d6cec966",
   "metadata": {},
   "outputs": [
    {
     "data": {
      "text/plain": [
       "SVC(kernel='linear', probability=True)"
      ]
     },
     "execution_count": 89,
     "metadata": {},
     "output_type": "execute_result"
    }
   ],
   "source": [
    "# criar e treinar o SVM\n",
    "svm = SVC(kernel='linear', probability=True)\n",
    "svm.fit(X_train, y_train)"
   ]
  },
  {
   "cell_type": "code",
   "execution_count": 91,
   "id": "f106f571-3a88-4555-bb48-fcee482b9065",
   "metadata": {},
   "outputs": [],
   "source": [
    "# fazer previsões no conjunto de teste\n",
    "y_pred = svm.predict(X_test)"
   ]
  },
  {
   "cell_type": "code",
   "execution_count": 92,
   "id": "a7d9e8e3-1225-4558-8fb9-bd44f5df7df3",
   "metadata": {},
   "outputs": [
    {
     "name": "stdout",
     "output_type": "stream",
     "text": [
      "              precision    recall  f1-score   support\n",
      "\n",
      "           0       0.98      0.99      0.98      1720\n",
      "           1       0.98      0.97      0.97      1036\n",
      "\n",
      "    accuracy                           0.98      2756\n",
      "   macro avg       0.98      0.98      0.98      2756\n",
      "weighted avg       0.98      0.98      0.98      2756\n",
      "\n"
     ]
    }
   ],
   "source": [
    "# imprimir o relatório de classificação\n",
    "print(classification_report(y_test, y_pred))"
   ]
  },
  {
   "cell_type": "code",
   "execution_count": 94,
   "id": "e164792c-278a-4602-86a9-dca4552f52ca",
   "metadata": {},
   "outputs": [
    {
     "data": {
      "text/plain": [
       "0.9796806966618288"
      ]
     },
     "execution_count": 94,
     "metadata": {},
     "output_type": "execute_result"
    }
   ],
   "source": [
    "acc = accuracy_score(y_test, y_pred)\n",
    "acc"
   ]
  },
  {
   "cell_type": "code",
   "execution_count": 46,
   "id": "3b30c93b-f44a-46b3-bdcc-bad58b921418",
   "metadata": {},
   "outputs": [
    {
     "data": {
      "text/plain": [
       "0.9692832764505119"
      ]
     },
     "execution_count": 46,
     "metadata": {},
     "output_type": "execute_result"
    }
   ],
   "source": [
    "f1 = f1_score(y_test, y_pred)\n",
    "f1"
   ]
  },
  {
   "cell_type": "code",
   "execution_count": 47,
   "id": "bc37cd9e-462d-4dc1-88b4-6664538e4e2a",
   "metadata": {},
   "outputs": [
    {
     "data": {
      "text/plain": [
       "0.9793103448275862"
      ]
     },
     "execution_count": 47,
     "metadata": {},
     "output_type": "execute_result"
    }
   ],
   "source": [
    "precision = precision_score(y_test, y_pred)\n",
    "precision"
   ]
  },
  {
   "cell_type": "code",
   "execution_count": 48,
   "id": "baa1b230-d632-4cf6-9960-e77054558652",
   "metadata": {},
   "outputs": [
    {
     "data": {
      "text/plain": [
       "0.973625078566939"
      ]
     },
     "execution_count": 48,
     "metadata": {},
     "output_type": "execute_result"
    }
   ],
   "source": [
    "bacc = balanced_accuracy_score(y_test, y_pred)\n",
    "bacc"
   ]
  },
  {
   "cell_type": "code",
   "execution_count": 86,
   "id": "a438213c-3cd5-488e-87d2-30d6055f4a54",
   "metadata": {},
   "outputs": [
    {
     "data": {
      "image/png": "[encoded data removed]",
      "text/plain": [
       "<Figure size 432x288 with 2 Axes>"
      ]
     },
     "metadata": {
      "needs_background": "light"
     },
     "output_type": "display_data"
    }
   ],
   "source": [
    "confusion_mat = confusion_matrix(y_test, y_pred)\n",
    "\n",
    "plt.imshow(confusion_mat, cmap=plt.cm.BuPu_r)\n",
    "plt.title('Matriz de Confusão')\n",
    "plt.colorbar()\n",
    "plt.xlabel('Previsão')\n",
    "plt.ylabel('Verdadeiro')\n",
    "plt.xticks([0, 1])\n",
    "plt.yticks([0, 1])\n",
    "plt.grid(False)\n",
    "for i in range(confusion_mat.shape[0]):\n",
    "    for j in range(confusion_mat.shape[1]):\n",
    "        plt.text(j, i, confusion_mat[i, j], ha='center', va='center', color='red')\n",
    "plt.show()\n"
   ]
  },
  {
   "cell_type": "code",
   "execution_count": null,
   "id": "0c3763cb-7c4b-49bb-8f05-e3eb6afddf66",
   "metadata": {},
   "outputs": [
    {
     "data": {
      "image/png": "[encoded data removed]",
      "text/plain": [
       "<Figure size 432x288 with 1 Axes>"
      ]
     },
     "metadata": {
      "needs_background": "light"
     },
     "output_type": "display_data"
    }
   ],
   "source": [
    "y_pred_proba = svm.predict_proba(X_test)\n",
    "\n",
    "precision, recall, thresholds = precision_recall_curve(y_test, y_pred_proba[:, 1])\n",
    "\n",
    "plt.plot(recall, precision)\n",
    "plt.xlabel('Revocação')\n",
    "plt.ylabel('Precisão')\n",
    "plt.show()\n"
   ]
  },
  {
   "cell_type": "code",
   "execution_count": 101,
   "id": "2cb2f1c1-ce07-4075-9445-5cf96c357c3b",
   "metadata": {},
   "outputs": [
    {
     "name": "stdout",
     "output_type": "stream",
     "text": [
      "AUC da curva de precisão-revocação: 1.00\n"
     ]
    }
   ],
   "source": [
    "auc = auc(recall, precision)\n",
    "print('AUC da curva de precisão-revocação: {:.2f}'.format(auc))\n"
   ]
  },
  {
   "cell_type": "markdown",
   "id": "1d7b416b-ccd3-4e2c-aed4-416c86f46b77",
   "metadata": {},
   "source": [
    "### MLP"
   ]
  },
  {
   "cell_type": "code",
   "execution_count": 105,
   "id": "e3119a46-e898-47e6-b5d9-d131101c78a6",
   "metadata": {},
   "outputs": [
    {
     "data": {
      "text/plain": [
       "MLPClassifier(alpha=1e-05, hidden_layer_sizes=70, max_iter=50, random_state=1,\n",
       "              solver='lbfgs', verbose=True)"
      ]
     },
     "execution_count": 105,
     "metadata": {},
     "output_type": "execute_result"
    }
   ],
   "source": [
    "clf = MLPClassifier(solver='lbfgs', alpha=1e-5, hidden_layer_sizes=(70), random_state=1, verbose=True, max_iter=50)\n",
    "clf.fit(X_train, y_train)"
   ]
  },
  {
   "cell_type": "code",
   "execution_count": 106,
   "id": "1abcb29a-d709-4eea-9fcc-ab14f99250d8",
   "metadata": {},
   "outputs": [],
   "source": [
    "# fazer previsões no conjunto de teste\n",
    "y_pred_mlp = clf.predict(X_test)"
   ]
  },
  {
   "cell_type": "code",
   "execution_count": 107,
   "id": "0cba3d6c-25bd-45ac-823c-7c0317248b40",
   "metadata": {},
   "outputs": [
    {
     "name": "stdout",
     "output_type": "stream",
     "text": [
      "              precision    recall  f1-score   support\n",
      "\n",
      "           0       0.98      0.98      0.98      1720\n",
      "           1       0.97      0.97      0.97      1036\n",
      "\n",
      "    accuracy                           0.98      2756\n",
      "   macro avg       0.97      0.98      0.98      2756\n",
      "weighted avg       0.98      0.98      0.98      2756\n",
      "\n"
     ]
    }
   ],
   "source": [
    "# imprimir o relatório de classificação\n",
    "print(classification_report(y_test, y_pred_mlp))"
   ]
  },
  {
   "cell_type": "code",
   "execution_count": 108,
   "id": "f0de2eb0-b1e1-4f29-8ff6-0229e7b94510",
   "metadata": {},
   "outputs": [
    {
     "data": {
      "text/plain": [
       "0.97677793904209"
      ]
     },
     "execution_count": 108,
     "metadata": {},
     "output_type": "execute_result"
    }
   ],
   "source": [
    "acc = accuracy_score(y_test, y_pred_mlp)\n",
    "acc"
   ]
  },
  {
   "cell_type": "code",
   "execution_count": 109,
   "id": "2d240605-2a89-41b4-ae79-5df604a1c166",
   "metadata": {},
   "outputs": [
    {
     "data": {
      "text/plain": [
       "0.9692307692307693"
      ]
     },
     "execution_count": 109,
     "metadata": {},
     "output_type": "execute_result"
    }
   ],
   "source": [
    "f1 = f1_score(y_test, y_pred_mlp)\n",
    "f1"
   ]
  },
  {
   "cell_type": "code",
   "execution_count": 110,
   "id": "6a7665ee-2072-4cc0-be14-13eedf2e64e7",
   "metadata": {},
   "outputs": [
    {
     "data": {
      "text/plain": [
       "0.9655172413793104"
      ]
     },
     "execution_count": 110,
     "metadata": {},
     "output_type": "execute_result"
    }
   ],
   "source": [
    "precision = precision_score(y_test, y_pred_mlp)\n",
    "precision"
   ]
  },
  {
   "cell_type": "code",
   "execution_count": 111,
   "id": "3d80f6db-b124-4ee5-9e82-a6e9a42d15fb",
   "metadata": {},
   "outputs": [
    {
     "data": {
      "text/plain": [
       "0.9760213702074167"
      ]
     },
     "execution_count": 111,
     "metadata": {},
     "output_type": "execute_result"
    }
   ],
   "source": [
    "bacc = balanced_accuracy_score(y_test, y_pred_mlp)\n",
    "bacc"
   ]
  },
  {
   "cell_type": "code",
   "execution_count": 115,
   "id": "390be20e-56dc-45fe-8a86-dfe805dcadae",
   "metadata": {},
   "outputs": [
    {
     "data": {
      "image/png": "[encoded data removed]",
      "text/plain": [
       "<Figure size 432x288 with 2 Axes>"
      ]
     },
     "metadata": {
      "needs_background": "light"
     },
     "output_type": "display_data"
    }
   ],
   "source": [
    "confusion_mat = confusion_matrix(y_test, y_pred_mlp)\n",
    "\n",
    "plt.imshow(confusion_mat, cmap=plt.cm.BuPu_r)\n",
    "plt.colorbar()\n",
    "plt.xlabel('Previsão')\n",
    "plt.ylabel('Verdadeiro')\n",
    "plt.xticks([0, 1])\n",
    "plt.yticks([0, 1])\n",
    "plt.grid(False)\n",
    "for i in range(confusion_mat.shape[0]):\n",
    "    for j in range(confusion_mat.shape[1]):\n",
    "        plt.text(j, i, confusion_mat[i, j], ha='center', va='center', color='red')\n",
    "plt.show()\n"
   ]
  },
  {
   "cell_type": "code",
   "execution_count": 113,
   "id": "55a64ca6-4ab7-4cbf-aa1c-8671a8c7924d",
   "metadata": {},
   "outputs": [
    {
     "data": {
      "image/png": "[encoded data removed]",
      "text/plain": [
       "<Figure size 432x288 with 1 Axes>"
      ]
     },
     "metadata": {
      "needs_background": "light"
     },
     "output_type": "display_data"
    }
   ],
   "source": [
    "y_pred_proba_mlp = clf.predict_proba(X_test)\n",
    "\n",
    "precision, recall, thresholds = precision_recall_curve(y_test, y_pred_proba_mlp[:, 1])\n",
    "\n",
    "plt.plot(recall, precision)\n",
    "plt.xlabel('Revocação')\n",
    "plt.ylabel('Precisão')\n",
    "plt.show()\n"
   ]
  },
  {
   "cell_type": "code",
   "execution_count": 114,
   "id": "c7c125a9-6356-4e2b-b6c5-22fb36226db5",
   "metadata": {},
   "outputs": [
    {
     "name": "stdout",
     "output_type": "stream",
     "text": [
      "AUC da curva de precisão-revocação: 1.00\n"
     ]
    }
   ],
   "source": [
    "auc = auc(recall, precision)\n",
    "print('AUC da curva de precisão-revocação: {:.2f}'.format(auc))\n"
   ]
  },
  {
   "cell_type": "code",
   "execution_count": null,
   "id": "f9cc4daf-1709-439b-9569-4af3ef95ce93",
   "metadata": {},
   "outputs": [],
   "source": []
  }
 ],
 "metadata": {
  "kernelspec": {
   "display_name": "Python 3 (ipykernel)",
   "language": "python",
   "name": "python3"
  },
  "language_info": {
   "codemirror_mode": {
    "name": "ipython",
    "version": 3
   },
   "file_extension": ".py",
   "mimetype": "text/x-python",
   "name": "python",
   "nbconvert_exporter": "python",
   "pygments_lexer": "ipython3",
   "version": "3.8.10"
  }
 },
 "nbformat": 4,
 "nbformat_minor": 5
}
